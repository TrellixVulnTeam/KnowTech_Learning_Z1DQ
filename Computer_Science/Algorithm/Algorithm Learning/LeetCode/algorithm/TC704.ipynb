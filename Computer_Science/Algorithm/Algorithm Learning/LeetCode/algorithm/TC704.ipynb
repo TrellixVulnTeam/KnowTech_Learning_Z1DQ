{
 "cells": [
  {
   "cell_type": "markdown",
   "metadata": {},
   "source": [
    "# LeetCode Algorithm Test Case 704\n",
    "\n",
    "## (二分查找)[https://leetcode-cn.com/problems/binary-search/]\n",
    "\n",
    "[TOC]\n",
    "\n",
    "给定一个n个元素有序的（升序）整型数组nums 和一个目标值target，写一个函数搜索nums中的 target，如果目标值存在返回下标，否则返回 -1。\n",
    "\n",
    "> 示例 1：\n",
    "> 输入: nums = [-1,0,3,5,9,12], target = 9\n",
    "> 输出: 4\n",
    "> 解释: 9 出现在 nums 中并且下标为 4\n",
    "\n",
    "> 示例 1：\n",
    "> 输入: nums = [-1,0,3,5,9,12], target = 2\n",
    "> 输出: -1\n",
    "> 解释: 2 不存在 nums 中因此返回 -1\n",
    "\n",
    "> 提示：\n",
    "> 1. 你可以假设 nums 中的所有元素是不重复的。\n",
    "> 2. n 将在 [1, 10000]之间。\n",
    "> 3. nums 的每个元素都将在 [-9999, 9999]之间。"
   ]
  },
  {
   "cell_type": "markdown",
   "metadata": {},
   "source": [
    "### Type A: Violent Enumeration Solution - Scheme I\n",
    "> 2021/08/07 Kevin Tang"
   ]
  },
  {
   "cell_type": "code",
   "execution_count": 13,
   "metadata": {
    "pycharm": {
     "name": "#%%\n"
    }
   },
   "outputs": [],
   "source": [
    "from typing import List\n",
    "\n",
    "\n",
    "def search_TypeA_Scheme_A(nums: List[int], target: int) -> int:\n",
    "    \"\"\"\n",
    "    :param nums:\n",
    "    :param target:\n",
    "    :return:\n",
    "\n",
    "    >>> ic(search_TypeA_Scheme_A(nums=[-1, 0, 3, 5, 9, 12], target=9))\n",
    "    4\n",
    "    >>> ic(search_TypeA_Scheme_A(nums=[-1, 0, 3, 5, 9, 12], target=2))\n",
    "    -1\n",
    "    \"\"\"\n",
    "    left: int = 0\n",
    "    right: int = len(nums) - 1\n",
    "    while left <= right:\n",
    "        cursor: int = int((left + right) / 2)\n",
    "        if nums[cursor] == target:\n",
    "            return cursor\n",
    "        elif nums[cursor] < target:\n",
    "            left = cursor + 1\n",
    "        elif nums[cursor] > target:\n",
    "            right = cursor - 1\n",
    "    return -1"
   ]
  },
  {
   "cell_type": "markdown",
   "source": [
    "### Test Script"
   ],
   "metadata": {
    "collapsed": false
   }
  },
  {
   "cell_type": "code",
   "execution_count": 14,
   "metadata": {
    "pycharm": {
     "name": "#%%\n"
    }
   },
   "outputs": [
    {
     "name": "stderr",
     "output_type": "stream",
     "text": [
      "ic| search_TypeA_Scheme_A(nums=[-1, 0, 3, 5, 9, 12], target=9): 4\n",
      "ic| search_TypeA_Scheme_A(nums=[-1, 0, 3, 5, 9, 12], target=2): -1\n",
      "ic| doctest.testmod(): TestResults(failed=0, attempted=2)\n"
     ]
    },
    {
     "data": {
      "text/plain": "TestResults(failed=0, attempted=2)"
     },
     "execution_count": 14,
     "metadata": {},
     "output_type": "execute_result"
    }
   ],
   "source": [
    "import doctest\n",
    "from icecream import ic\n",
    "\n",
    "ic(doctest.testmod())"
   ]
  }
 ],
 "metadata": {
  "kernelspec": {
   "display_name": "Python 3 (ipykernel)",
   "language": "python",
   "name": "python3"
  },
  "language_info": {
   "codemirror_mode": {
    "name": "ipython",
    "version": 3
   },
   "file_extension": ".py",
   "mimetype": "text/x-python",
   "name": "python",
   "nbconvert_exporter": "python",
   "pygments_lexer": "ipython3",
   "version": "3.9.6"
  }
 },
 "nbformat": 4,
 "nbformat_minor": 1
}