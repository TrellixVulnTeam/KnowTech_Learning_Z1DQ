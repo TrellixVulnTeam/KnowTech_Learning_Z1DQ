{
 "cells": [
  {
   "cell_type": "markdown",
   "metadata": {
    "collapsed": true,
    "pycharm": {
     "name": "#%% md\n"
    }
   },
   "source": [
    "# LeetCode Algorithm Test Case 01\n",
    "\n",
    "## (删除排序数组中的重复项)[https://leetcode-cn.com/problems/remove-duplicates-from-sorted-array/]\n",
    "\n",
    "[TOC]\n",
    "给你一个有序数组 nums ，请你 原地 删除重复出现的元素，使每个元素 只出现一次 ，返回删除后数组的新长度。\n",
    "\n",
    "不要使用额外的数组空间，你必须在 原地 修改输入数组 并在使用 O(1) 额外空间的条件下完成。\n",
    "\n",
    "\n",
    "\n",
    "说明:\n",
    "\n",
    "为什么返回数值是整数，但输出的答案是数组呢?\n",
    "\n",
    "请注意，输入数组是以「引用」方式传递的，这意味着在函数里修改输入数组对于调用者是可见的。\n",
    "\n",
    "你可以想象内部操作如下:\n",
    "```\n",
    "// nums 是以“引用”方式传递的。也就是说，不对实参做任何拷贝\n",
    "int len = removeDuplicates(nums);\n",
    "\n",
    "// 在函数里修改输入数组对于调用者是可见的。\n",
    "// 根据你的函数返回的长度, 它会打印出数组中 该长度范围内 的所有元素。\n",
    "for (int i = 0; i < len; i++) {\n",
    "  print(nums[i]);\n",
    "}\n",
    "```\n",
    "> 示例 1：\n",
    ">\n",
    "> 输入：nums = [1,1,2]\n",
    "> 输出：2, nums = [1,2]\n",
    "> 解释：函数应该返回新的长度 2 ，并且原数组 nums 的前两个元素被修改为 1, 2 。不需要考虑数组中超出新长度后面的元素。\n",
    "\n",
    "> 示例 2：\n",
    ">\n",
    "> 输入：nums = [0,0,1,1,1,2,2,3,3,4]\n",
    "> 输出：5, nums = [0,1,2,3,4]\n",
    "> 解释：函数应该返回新的长度 5 ， 并且原数组 nums 的前五个元素被修改为 0, 1, 2, 3, 4 。不需要考虑数组中超出新长度后面的元素。\n",
    "\n",
    "\n",
    "> 提示：\n",
    "> 0 <= nums.length <= 3 * 104\n",
    "> -104 <= nums[i] <= 104\n",
    "> nums 已按升序排列"
   ]
  },
  {
   "cell_type": "raw",
   "source": [
    "### Type A: Violent Enumeration Solution - Scheme I\n",
    "> 2021/08/07 Kevin Tang"
   ],
   "metadata": {
    "collapsed": false,
    "pycharm": {
     "name": "#%% raw\n"
    }
   }
  },
  {
   "cell_type": "code",
   "execution_count": 12,
   "outputs": [
    {
     "name": "stderr",
     "output_type": "stream",
     "text": [
      "ic| maxId: 10\n",
      "    currentId: 1\n",
      "    cursor: 1\n",
      "    nums: [0, 0, 1, 1, 1, 2, 2, 3, 3, 4]\n",
      "ic| maxId: 10\n",
      "    currentId: 1\n",
      "    cursor: 2\n",
      "    nums: [0, 0, 1, 1, 1, 2, 2, 3, 3, 4]\n",
      "ic| maxId: 10\n",
      "    currentId: 2\n",
      "    cursor: 3\n",
      "    nums: [0, 1, 1, 1, 1, 2, 2, 3, 3, 4]\n",
      "ic| maxId: 10\n",
      "    currentId: 2\n",
      "    cursor: 4\n",
      "    nums: [0, 1, 1, 1, 1, 2, 2, 3, 3, 4]\n",
      "ic| maxId: 10\n",
      "    currentId: 2\n",
      "    cursor: 5\n",
      "    nums: [0, 1, 1, 1, 1, 2, 2, 3, 3, 4]\n",
      "ic| maxId: 10\n",
      "    currentId: 3\n",
      "    cursor: 6\n",
      "    nums: [0, 1, 2, 1, 1, 2, 2, 3, 3, 4]\n",
      "ic| maxId: 10\n",
      "    currentId: 3\n",
      "    cursor: 7\n",
      "    nums: [0, 1, 2, 1, 1, 2, 2, 3, 3, 4]\n",
      "ic| maxId: 10\n",
      "    currentId: 4\n",
      "    cursor: 8\n",
      "    nums: [0, 1, 2, 3, 1, 2, 2, 3, 3, 4]\n",
      "ic| maxId: 10\n",
      "    currentId: 4\n",
      "    cursor: 9\n",
      "    nums: [0, 1, 2, 3, 1, 2, 2, 3, 3, 4]\n",
      "ic| \"Result\": 'Result'\n",
      "    maxId: 10\n",
      "    currentId: 5\n",
      "    cursor: 10\n",
      "    nums[0:currentId]: [0, 1, 2, 3, 4]\n",
      "    nums: [0, 1, 2, 3, 4, 2, 2, 3, 3, 4]\n",
      "ic| Solution().removeDuplicates_TypeA_Scheme_A(nums=[0, 0, 1, 1, 1, 2, 2, 3, 3, 4]): 5\n"
     ]
    },
    {
     "data": {
      "text/plain": "5"
     },
     "execution_count": 12,
     "metadata": {},
     "output_type": "execute_result"
    }
   ],
   "source": [
    "from typing import List\n",
    "from icecream import ic\n",
    "from loguru import logger\n",
    "\n",
    "\n",
    "class Solution:\n",
    "    def removeDuplicates_TypeA_Scheme_A(self, nums: List[int]) -> int:\n",
    "        # def removeDuplicates_TypeA_Scheme_A(self, nums: List[int]) -> tuple[int, list[int]]:\n",
    "        \"\"\"\n",
    "\n",
    "        :param nums:\n",
    "        :return:\n",
    "\n",
    "        >>> ic(Solution().removeDuplicates_TypeA_Scheme_A(nums=None))\n",
    "        0\n",
    "        >>> ic(Solution().removeDuplicates_TypeA_Scheme_A(nums=[]))\n",
    "        0\n",
    "        >>> ic(Solution().removeDuplicates_TypeA_Scheme_A(nums=[1, 1, 2]))\n",
    "        2\n",
    "        >>> ic(Solution().removeDuplicates_TypeA_Scheme_A(nums=[0, 0, 1, 1, 1, 2, 2, 3, 3, 4]))\n",
    "        5\n",
    "        \"\"\"\n",
    "        if not nums:\n",
    "            return 0\n",
    "            # return 0, nums\n",
    "        maxId: int = len(nums)\n",
    "        currentId = cursor = 1\n",
    "        while cursor < maxId:\n",
    "            ic(maxId, currentId, cursor, nums)\n",
    "            if nums[cursor] != nums[cursor - 1]:\n",
    "                nums[currentId] = nums[cursor]\n",
    "                currentId += 1\n",
    "                # maxId -= 1\n",
    "            cursor += 1\n",
    "        ic(\"Result\", maxId, currentId, cursor, nums[0:currentId], nums)\n",
    "        return currentId\n",
    "        # return currentId, nums[0:currentId]\n",
    "\n",
    "\n",
    "# ic(Solution().removeDuplicates_TypeA_Scheme_A(nums=[1, 1, 2]))\n",
    "# print(\"------------\")\n",
    "ic(Solution().removeDuplicates_TypeA_Scheme_A(nums=[0, 0, 1, 1, 1, 2, 2, 3, 3, 4]))"
   ],
   "metadata": {
    "collapsed": false,
    "pycharm": {
     "name": "#%%\n"
    }
   }
  },
  {
   "cell_type": "markdown",
   "source": [
    "### Test Script"
   ],
   "metadata": {
    "collapsed": false
   }
  },
  {
   "cell_type": "code",
   "execution_count": 13,
   "outputs": [
    {
     "name": "stderr",
     "output_type": "stream",
     "text": [
      "ic| <doctest __main__.Solution.removeDuplicates_TypeA_Scheme_A[0]>:1 in <module>\n",
      "    Solution().removeDuplicates_TypeA_Scheme_A(nums=None): 0\n",
      "ic| <doctest __main__.Solution.removeDuplicates_TypeA_Scheme_A[1]>:1 in <module>\n",
      "    Solution().removeDuplicates_TypeA_Scheme_A(nums=[]): 0\n",
      "ic| 1902302.py:29 in removeDuplicates_TypeA_Scheme_A()\n",
      "    maxId: 3\n",
      "    currentId: 1\n",
      "    cursor: 1\n",
      "    nums: [1, 1, 2]\n",
      "ic| 1902302.py:29 in removeDuplicates_TypeA_Scheme_A()\n",
      "    maxId: 3\n",
      "    currentId: 1\n",
      "    cursor: 2\n",
      "    nums: [1, 1, 2]\n",
      "ic| 1902302.py:35 in removeDuplicates_TypeA_Scheme_A()\n",
      "    \"Result\": 'Result'\n",
      "    maxId: 3\n",
      "    currentId: 2\n",
      "    cursor: 3\n",
      "    nums[0:currentId]: [1, 2]\n",
      "    nums: [1, 2, 2]\n",
      "ic| <doctest __main__.Solution.removeDuplicates_TypeA_Scheme_A[2]>:1 in <module>\n",
      "    Solution().removeDuplicates_TypeA_Scheme_A(nums=[1, 1, 2]): 2\n",
      "ic| 1902302.py:29 in removeDuplicates_TypeA_Scheme_A()\n",
      "    maxId: 10\n",
      "    currentId: 1\n",
      "    cursor: 1\n",
      "    nums: [0, 0, 1, 1, 1, 2, 2, 3, 3, 4]\n",
      "ic| 1902302.py:29 in removeDuplicates_TypeA_Scheme_A()\n",
      "    maxId: 10\n",
      "    currentId: 1\n",
      "    cursor: 2\n",
      "    nums: [0, 0, 1, 1, 1, 2, 2, 3, 3, 4]\n",
      "ic| 1902302.py:29 in removeDuplicates_TypeA_Scheme_A()\n",
      "    maxId: 10\n",
      "    currentId: 2\n",
      "    cursor: 3\n",
      "    nums: [0, 1, 1, 1, 1, 2, 2, 3, 3, 4]\n",
      "ic| 1902302.py:29 in removeDuplicates_TypeA_Scheme_A()\n",
      "    maxId: 10\n",
      "    currentId: 2\n",
      "    cursor: 4\n",
      "    nums: [0, 1, 1, 1, 1, 2, 2, 3, 3, 4]\n",
      "ic| 1902302.py:29 in removeDuplicates_TypeA_Scheme_A()\n",
      "    maxId: 10\n",
      "    currentId: 2\n",
      "    cursor: 5\n",
      "    nums: [0, 1, 1, 1, 1, 2, 2, 3, 3, 4]\n",
      "ic| 1902302.py:29 in removeDuplicates_TypeA_Scheme_A()\n",
      "    maxId: 10\n",
      "    currentId: 3\n",
      "    cursor: 6\n",
      "    nums: [0, 1, 2, 1, 1, 2, 2, 3, 3, 4]\n",
      "ic| 1902302.py:29 in removeDuplicates_TypeA_Scheme_A()\n",
      "    maxId: 10\n",
      "    currentId: 3\n",
      "    cursor: 7\n",
      "    nums: [0, 1, 2, 1, 1, 2, 2, 3, 3, 4]\n",
      "ic| 1902302.py:29 in removeDuplicates_TypeA_Scheme_A()\n",
      "    maxId: 10\n",
      "    currentId: 4\n",
      "    cursor: 8\n",
      "    nums: [0, 1, 2, 3, 1, 2, 2, 3, 3, 4]\n",
      "ic| 1902302.py:29 in removeDuplicates_TypeA_Scheme_A()\n",
      "    maxId: 10\n",
      "    currentId: 4\n",
      "    cursor: 9\n",
      "    nums: [0, 1, 2, 3, 1, 2, 2, 3, 3, 4]\n",
      "ic| 1902302.py:35 in removeDuplicates_TypeA_Scheme_A()\n",
      "    \"Result\": 'Result'\n",
      "    maxId: 10\n",
      "    currentId: 5\n",
      "    cursor: 10\n",
      "    nums[0:currentId]: [0, 1, 2, 3, 4]\n",
      "    nums: [0, 1, 2, 3, 4, 2, 2, 3, 3, 4]\n",
      "ic| <doctest __main__.Solution.removeDuplicates_TypeA_Scheme_A[3]>:1 in <module>\n",
      "    Solution().removeDuplicates_TypeA_Scheme_A(nums=[0, 0, 1, 1, 1, 2, 2, 3, 3, 4]): 5\n",
      "ic| 3911935739.py:5 in <module>\n",
      "    doctest.testmod(): TestResults(failed=0, attempted=4)\n"
     ]
    },
    {
     "data": {
      "text/plain": "TestResults(failed=0, attempted=4)"
     },
     "execution_count": 13,
     "metadata": {},
     "output_type": "execute_result"
    }
   ],
   "source": [
    "import doctest\n",
    "from icecream import ic\n",
    "\n",
    "ic.configureOutput(includeContext=True)\n",
    "ic(doctest.testmod())"
   ],
   "metadata": {
    "collapsed": false,
    "pycharm": {
     "name": "#%%\n"
    }
   }
  }
 ],
 "metadata": {
  "kernelspec": {
   "display_name": "Python 3",
   "language": "python",
   "name": "python3"
  },
  "language_info": {
   "codemirror_mode": {
    "name": "ipython",
    "version": 2
   },
   "file_extension": ".py",
   "mimetype": "text/x-python",
   "name": "python",
   "nbconvert_exporter": "python",
   "pygments_lexer": "ipython2",
   "version": "2.7.6"
  }
 },
 "nbformat": 4,
 "nbformat_minor": 0
}