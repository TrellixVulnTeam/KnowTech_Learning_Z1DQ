{
 "cells": [
  {
   "cell_type": "markdown",
   "metadata": {},
   "source": [
    "# LeetCode Algorithm Test Case 551\n",
    "\n",
    "## (学生出勤记录 I)[https://leetcode-cn.com/problems/student-attendance-record-i/]\n",
    "\n",
    "[TOC]\n",
    "\n",
    "给你一个字符串 s 表示一个学生的出勤记录，其中的每个字符用来标记当天的出勤情况（缺勤、迟到、到场）。记录中只含下面三种字符：\n",
    "\n",
    "1. 'A'：Absent，缺勤\n",
    "2. 'L'：Late，迟到\n",
    "3. 'P'：Present，到场\n",
    "\n",
    "如果学生能够 同时 满足下面两个条件，则可以获得出勤奖励：\n",
    "1. 按 总出勤 计，学生缺勤（'A'）严格 少于两天。\n",
    "2. 学生 不会 存在 连续 3 天或 3 天以上的迟到（'L'）记录。\n",
    "\n",
    "如果学生可以获得出勤奖励，返回 true ；否则，返回 false 。\n",
    "\n",
    "> 示例 1：\n",
    "> 输入: s = \"PPALLP\"\n",
    "> 输出: true\n",
    "> 解释: 学生缺勤次数少于 2 次，且不存在 3 天或以上的连续迟到记录。\n",
    "\n",
    "> 示例 1：\n",
    "> 输入: s = \"PPALLL\"\n",
    "> 输出: false\n",
    "> 解释: 学生最后三天连续迟到，所以不满足出勤奖励的条件。\n",
    "\n",
    "> 提示：\n",
    "> - `1 <= s.length <= 1000`\n",
    "> - `s[i]` 为 `A`、`L` 或 `P`"
   ]
  },
  {
   "cell_type": "markdown",
   "metadata": {},
   "source": [
    "### Type A: Violent Enumeration Solution - Scheme I\n",
    "> 2021/08/17 Kevin Tang"
   ]
  },
  {
   "cell_type": "code",
   "execution_count": 21,
   "outputs": [],
   "source": [
    "from typing import List\n",
    "\n",
    "\n",
    "def checkRecord_TypeA_Scheme_A(s: str) -> bool:\n",
    "    \"\"\"\n",
    "    :param nums:\n",
    "    :param target:\n",
    "    :return:\n",
    "\n",
    "    >>> ic(checkRecord_TypeA_Scheme_A(s=\"PPALLP\"))\n",
    "    True\n",
    "    >>> ic(checkRecord_TypeA_Scheme_A(s=\"PPALLL\"))\n",
    "    False\n",
    "    >>> ic(checkRecord_TypeA_Scheme_A(s=\"AA\"))\n",
    "    False\n",
    "    \"\"\"\n",
    "    absent, late, present = 0, 0, 0\n",
    "    lateContinuousCount = 0\n",
    "    for i in s:\n",
    "        if i == 'L':\n",
    "            late += 1\n",
    "            lateContinuousCount += 1\n",
    "        elif i == 'A':\n",
    "            absent += 1\n",
    "            lateContinuousCount = 0\n",
    "        elif i == 'P':\n",
    "            present += 1\n",
    "            lateContinuousCount = 0\n",
    "        if absent >= 2 or lateContinuousCount >= 3:\n",
    "            return False\n",
    "    return True"
   ],
   "metadata": {
    "collapsed": false,
    "pycharm": {
     "name": "#%%\n"
    }
   }
  },
  {
   "cell_type": "markdown",
   "source": [
    "### Type A: Violent Enumeration Solution - Scheme II\n",
    "> 2021/08/17 Kevin Tang"
   ],
   "metadata": {
    "collapsed": false
   }
  },
  {
   "cell_type": "code",
   "execution_count": 22,
   "outputs": [],
   "source": [
    "from typing import List\n",
    "\n",
    "\n",
    "def checkRecord_TypeA_Scheme_B(s: str) -> bool:\n",
    "    \"\"\"\n",
    "    :param nums:\n",
    "    :param target:\n",
    "    :return:\n",
    "\n",
    "    >>> ic(checkRecord_TypeA_Scheme_B(s=\"PPALLP\"))\n",
    "    True\n",
    "    >>> ic(checkRecord_TypeA_Scheme_B(s=\"PPALLL\"))\n",
    "    False\n",
    "    >>> ic(checkRecord_TypeA_Scheme_B(s=\"AA\"))\n",
    "    False\n",
    "    \"\"\"\n",
    "    absent: int = 0\n",
    "    lateContinuousCount = 0\n",
    "    for i in s:\n",
    "        if i == 'A':\n",
    "            absent += 1\n",
    "            if absent >= 2:\n",
    "                return False\n",
    "        if i == 'L':\n",
    "            lateContinuousCount += 1\n",
    "            if lateContinuousCount >= 3:\n",
    "                return False\n",
    "        else:\n",
    "            lateContinuousCount = 0\n",
    "    return True"
   ],
   "metadata": {
    "collapsed": false,
    "pycharm": {
     "name": "#%%\n"
    }
   }
  },
  {
   "cell_type": "markdown",
   "source": [
    "### Type B: Built in Function Solution - Scheme I\n",
    "> 2021/08/17 Kevin Tang"
   ],
   "metadata": {
    "collapsed": false
   }
  },
  {
   "cell_type": "code",
   "execution_count": 23,
   "metadata": {
    "pycharm": {
     "name": "#%%\n"
    }
   },
   "outputs": [],
   "source": [
    "from typing import List\n",
    "\n",
    "\n",
    "def checkRecord_TypeB_Scheme_A(s: str) -> bool:\n",
    "    \"\"\"\n",
    "    :param nums:\n",
    "    :param target:\n",
    "    :return:\n",
    "\n",
    "    >>> ic(checkRecord_TypeB_Scheme_A(s=\"PPALLP\"))\n",
    "    True\n",
    "    >>> ic(checkRecord_TypeB_Scheme_A(s=\"PPALLL\"))\n",
    "    False\n",
    "    >>> ic(checkRecord_TypeB_Scheme_A(s=\"AA\"))\n",
    "    False\n",
    "    >>> ic(checkRecord_TypeB_Scheme_A(s=\"LPLPLPLPLPL\"))\n",
    "    True\n",
    "    \"\"\"\n",
    "    return (s.find('A') == s.rfind('A')) and ('LLL' not in s)"
   ]
  },
  {
   "cell_type": "markdown",
   "source": [
    "### Test Script"
   ],
   "metadata": {
    "collapsed": false
   }
  },
  {
   "cell_type": "code",
   "execution_count": 24,
   "metadata": {
    "pycharm": {
     "name": "#%%\n"
    }
   },
   "outputs": [
    {
     "name": "stderr",
     "output_type": "stream",
     "text": [
      "ic| checkRecord_TypeA_Scheme_A(s=\"PPALLP\"): True\n",
      "ic| checkRecord_TypeA_Scheme_A(s=\"PPALLL\"): False\n",
      "ic| checkRecord_TypeA_Scheme_A(s=\"AA\"): False\n",
      "ic| checkRecord_TypeA_Scheme_B(s=\"PPALLP\"): True\n",
      "ic| checkRecord_TypeA_Scheme_B(s=\"PPALLL\"): False\n",
      "ic| checkRecord_TypeA_Scheme_B(s=\"AA\"): False\n",
      "ic| checkRecord_TypeB_Scheme_A(s=\"PPALLP\"): True\n",
      "ic| checkRecord_TypeB_Scheme_A(s=\"PPALLL\"): False\n",
      "ic| checkRecord_TypeB_Scheme_A(s=\"AA\"): False\n",
      "ic| checkRecord_TypeB_Scheme_A(s=\"LPLPLPLPLPL\"): True\n",
      "ic| doctest.testmod(): TestResults(failed=0, attempted=10)\n"
     ]
    },
    {
     "data": {
      "text/plain": "TestResults(failed=0, attempted=10)"
     },
     "execution_count": 24,
     "metadata": {},
     "output_type": "execute_result"
    }
   ],
   "source": [
    "import doctest\n",
    "from icecream import ic\n",
    "\n",
    "ic(doctest.testmod())"
   ]
  }
 ],
 "metadata": {
  "kernelspec": {
   "display_name": "Python 3 (ipykernel)",
   "language": "python",
   "name": "python3"
  },
  "language_info": {
   "codemirror_mode": {
    "name": "ipython",
    "version": 3
   },
   "file_extension": ".py",
   "mimetype": "text/x-python",
   "name": "python",
   "nbconvert_exporter": "python",
   "pygments_lexer": "ipython3",
   "version": "3.9.6"
  }
 },
 "nbformat": 4,
 "nbformat_minor": 1
}