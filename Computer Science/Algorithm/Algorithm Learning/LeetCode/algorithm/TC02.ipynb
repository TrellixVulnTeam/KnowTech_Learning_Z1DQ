{
 "cells": [
  {
   "cell_type": "markdown",
   "metadata": {},
   "source": [
    "# LeetCode Algorithm Test Case 02\n",
    "\n",
    "## (两数相加)[https://leetcode-cn.com/problems/add-two-numbers/]\n",
    "\n",
    "[TOC]\n",
    "\n",
    "给你两个非空 的链表，表示两个非负的整数。它们每位数字都是按照逆序的方式存储的，并且每个节点只能存储一位数字。\n",
    "\n",
    "请你将两个数相加，并以相同形式返回一个表示和的链表。\n",
    "\n",
    "你可以假设除了数字 0 之外，这两个数都不会以 0 开头。\n",
    "\n",
    "\n",
    "> 示例 1：\n",
    "> 输入: l1 = [2,4,3], l2 = [5,6,4]\n",
    "> 输出: [7,0,8]\n",
    "> 解释：342 + 465 = 807.\n",
    "\n",
    "> 示例 2：\n",
    "> 输入: l1 = [0], l2 = [0]\n",
    "> 输出: [0]\n",
    "\n",
    "> 示例 3：\n",
    "> 输入: l1 = [9,9,9,9,9,9,9], l2 = [9,9,9,9]\n",
    "> 输出: [8,9,9,9,0,0,0,1]\n",
    "\n",
    "> 提示：\n",
    "> - 每个链表中的节点数在范围 `[1, 100]` 内\n",
    "> - `0 <= Node.val <= 9`\n",
    "> - 题目数据保证列表表示的数字不含前导零"
   ]
  },
  {
   "cell_type": "markdown",
   "metadata": {},
   "source": [
    "### Type A: Violent Enumeration Solution - Scheme I\n",
    "> 2021/08/19 Kevin Tang"
   ]
  },
  {
   "cell_type": "code",
   "execution_count": 1,
   "outputs": [],
   "source": [
    "import doctest\n",
    "from typing import List\n",
    "from icecream import ic\n",
    "from loguru import logger\n",
    "from traitlets import Int\n",
    "\n",
    "\n",
    "class ListNode:\n",
    "    def __init__(self, val=0, next=None):\n",
    "        self.val = val\n",
    "        self.next = next\n",
    "\n",
    "\n",
    "def inputNode(nums: List[int]) -> ListNode:\n",
    "    listNode: ListNode = ListNode()\n",
    "    cursor = listNode\n",
    "    for i in range(0, len(nums)):\n",
    "        cursor.val = nums[i]\n",
    "        if i != len(nums) - 1:\n",
    "            cursor.next = ListNode()\n",
    "            cursor = cursor.next\n",
    "    return listNode\n",
    "\n",
    "\n",
    "def nodeToList(node: ListNode) -> List[int]:\n",
    "    cursor = node\n",
    "    list: List[int] = []\n",
    "    while cursor.next != None:\n",
    "        list.append(cursor.val)\n",
    "        cursor = cursor.next\n",
    "    return list\n",
    "\n",
    "\n",
    "def lenNode(node: ListNode) -> int:\n",
    "    cursor = node\n",
    "    count = 0\n",
    "    while cursor.next != None:\n",
    "        count += 1\n",
    "        cursor = cursor.next\n",
    "    # ic(count)\n",
    "    return count\n",
    "\n",
    "\n",
    "class Solution:\n",
    "    def addTwoNumbers(self, l1: ListNode, l2: ListNode) -> ListNode:\n",
    "        # def addTwoNumbers(self, l1: ListNode, l2: ListNode) -> List[int]:\n",
    "        \"\"\"\n",
    "        :param l1:\n",
    "        :param l2:\n",
    "        :return:\n",
    "\n",
    "        >>> ic(nodeToList(Solution().addTwoNumbers(l1=inputNode(nums=[2, 4, 3]), l2=inputNode(nums=[5, 6, 4]))))\n",
    "        [7, 0, 8]\n",
    "        >>> ic(nodeToList(Solution().addTwoNumbers(l1=inputNode(nums=[0]), l2=inputNode(nums=[0]))))\n",
    "        [0]\n",
    "        >>> ic(nodeToList(Solution().addTwoNumbers(l1=inputNode(nums=[9, 9, 9, 9, 9, 9, 9]), l2=inputNode(nums=[9, 9, 9, 9]))))\n",
    "        [8, 9, 9, 9, 0, 0, 0, 1]\n",
    "        \"\"\"\n",
    "        ic(nodeToList(l1), nodeToList(l2))\n",
    "        retList: List[int] = []\n",
    "        cursorA: ListNode\n",
    "        cursorB: ListNode\n",
    "        if lenNode(l1) > lenNode(l2):\n",
    "            cursorA, cursorB = l1, l2\n",
    "        else:\n",
    "            cursorA, cursorB = l2, l1\n",
    "\n",
    "        nextByte: int = 0\n",
    "        while cursorA != None:\n",
    "            temp = cursorA.val + nextByte\n",
    "            nextByte = 0\n",
    "            # if cursorB != None and cursorB.next != None:\n",
    "            if cursorB != None:\n",
    "                temp = temp + cursorB.val\n",
    "                cursorB = cursorB.next\n",
    "            if temp > 9:\n",
    "                temp = temp % 10\n",
    "                nextByte = 1\n",
    "            retList.append(temp)\n",
    "            cursorA = cursorA.next\n",
    "        if nextByte > 0:\n",
    "            retList.append(nextByte)\n",
    "        # return nodeToList(inputNode(retList))\n",
    "        return inputNode(retList)\n",
    "\n",
    "\n",
    "# ic(Solution().removeDuplicates_TypeA_Scheme_A(nums=[1, 1, 2]))\n",
    "# print(\"------------\")\n",
    "ic(nodeToList(Solution().addTwoNumbers(l1=inputNode(nums=[2, 4, 3]), l2=inputNode(nums=[5, 6, 4]))))\n",
    "ic(nodeToList(Solution().addTwoNumbers(l1=inputNode(nums=[2, 4, 3]), l2=inputNode(nums=[5, 8, 4]))))\n",
    "ic(nodeToList(Solution().addTwoNumbers(l1=inputNode(nums=[0]), l2=inputNode(nums=[0]))))\n",
    "ic(nodeToList(\n",
    "    Solution().addTwoNumbers(l1=inputNode(nums=[9, 9, 9, 9, 9, 9, 9]), l2=inputNode(nums=[9, 9, 9, 9]))))\n",
    "\n",
    "ic(doctest.testmod())\n"
   ],
   "metadata": {
    "collapsed": false,
    "pycharm": {
     "name": "#%%\n"
    }
   }
  },
  {
   "cell_type": "markdown",
   "source": [
    "### Type A: Violent Enumeration Solution - Scheme II\n",
    "> 2021/08/17 Kevin Tang"
   ],
   "metadata": {
    "collapsed": false
   }
  },
  {
   "cell_type": "code",
   "execution_count": 2,
   "outputs": [],
   "source": [
    "from typing import List\n",
    "\n",
    "\n",
    "def addTwoNumbers_TypeA_Scheme_B(l1: ListNode, l2: ListNode) -> ListNode:\n",
    "    \"\"\"\n",
    "    :param l1:\n",
    "    :param l2:\n",
    "    :return:\n",
    "\n",
    "    >>> ic(nodeToList(addTwoNumbers_TypeA_Scheme_B(l1=inputNode(nums=[2, 4, 3]), l2=inputNode(nums=[5, 6, 4]))))\n",
    "    [7, 0, 8]\n",
    "    >>> ic(nodeToList(addTwoNumbers_TypeA_Scheme_B(l1=inputNode(nums=[0]), l2=inputNode(nums=[0]))))\n",
    "    [0]\n",
    "    >>> ic(nodeToList(addTwoNumbers_TypeA_Scheme_B(l1=inputNode(nums=[9, 9, 9, 9, 9, 9, 9]), l2=inputNode(nums=[9, 9, 9, 9]))))\n",
    "    [8, 9, 9, 9, 0, 0, 0, 1]\n",
    "    \"\"\"\n",
    "    pass"
   ],
   "metadata": {
    "collapsed": false,
    "pycharm": {
     "name": "#%%\n"
    }
   }
  },
  {
   "cell_type": "markdown",
   "source": [
    "### Type B: Built in Function Solution - Scheme I\n",
    "> 2021/08/19 Kevin Tang"
   ],
   "metadata": {
    "collapsed": false
   }
  },
  {
   "cell_type": "code",
   "execution_count": 3,
   "metadata": {
    "pycharm": {
     "name": "#%%\n"
    }
   },
   "outputs": [],
   "source": [
    "from typing import List\n",
    "\n",
    "\n",
    "def addTwoNumbers_TypeB_Scheme_A(l1: ListNode, l2: ListNode) -> ListNode:\n",
    "    \"\"\"\n",
    "    :param l1:\n",
    "    :param l2:\n",
    "    :return:\n",
    "\n",
    "    >>> ic(nodeToList(addTwoNumbers_TypeB_Scheme_A(l1=inputNode(nums=[2, 4, 3]), l2=inputNode(nums=[5, 6, 4]))))\n",
    "    [7, 0, 8]\n",
    "    >>> ic(nodeToList(addTwoNumbers_TypeB_Scheme_A(l1=inputNode(nums=[0]), l2=inputNode(nums=[0]))))\n",
    "    [0]\n",
    "    >>> ic(nodeToList(addTwoNumbers_TypeB_Scheme_A(l1=inputNode(nums=[9, 9, 9, 9, 9, 9, 9]), l2=inputNode(nums=[9, 9, 9, 9]))))\n",
    "    [8, 9, 9, 9, 0, 0, 0, 1]\n",
    "    \"\"\"\n",
    "    pass"
   ]
  },
  {
   "cell_type": "markdown",
   "source": [
    "### Test Script"
   ],
   "metadata": {
    "collapsed": false
   }
  },
  {
   "cell_type": "code",
   "execution_count": 4,
   "metadata": {
    "pycharm": {
     "name": "#%%\n"
    }
   },
   "outputs": [
    {
     "name": "stdout",
     "output_type": "stream",
     "text": [
      "**********************************************************************\n",
      "File \"__main__\", line 44, in __main__.addTwoNumbers_TypeA_Scheme_A\n",
      "Failed example:\n",
      "    ic(nodeToList(addTwoNumbers_TypeA_Scheme_A(l1=inputNode(nums=[2, 4, 3]), l2=inputNode(nums=[5, 6, 4]))))\n",
      "Exception raised:\n",
      "    Traceback (most recent call last):\n",
      "      File \"C:\\Users\\tangke\\AppData\\Local\\Programs\\Python\\Python39\\lib\\doctest.py\", line 1336, in __run\n",
      "        exec(compile(example.source, filename, \"single\",\n",
      "      File \"<doctest __main__.addTwoNumbers_TypeA_Scheme_A[0]>\", line 1, in <module>\n",
      "        ic(nodeToList(addTwoNumbers_TypeA_Scheme_A(l1=inputNode(nums=[2, 4, 3]), l2=inputNode(nums=[5, 6, 4]))))\n",
      "    TypeError: addTwoNumbers_TypeA_Scheme_A() missing 1 required positional argument: 'self'\n",
      "**********************************************************************\n",
      "File \"__main__\", line 46, in __main__.addTwoNumbers_TypeA_Scheme_A\n",
      "Failed example:\n",
      "    ic(nodeToList(addTwoNumbers_TypeA_Scheme_A(l1=inputNode(nums=[0]), l2=inputNode(nums=[0]))))\n",
      "Exception raised:\n",
      "    Traceback (most recent call last):\n",
      "      File \"C:\\Users\\tangke\\AppData\\Local\\Programs\\Python\\Python39\\lib\\doctest.py\", line 1336, in __run\n",
      "        exec(compile(example.source, filename, \"single\",\n",
      "      File \"<doctest __main__.addTwoNumbers_TypeA_Scheme_A[1]>\", line 1, in <module>\n",
      "        ic(nodeToList(addTwoNumbers_TypeA_Scheme_A(l1=inputNode(nums=[0]), l2=inputNode(nums=[0]))))\n",
      "    TypeError: addTwoNumbers_TypeA_Scheme_A() missing 1 required positional argument: 'self'\n",
      "**********************************************************************\n",
      "File \"__main__\", line 48, in __main__.addTwoNumbers_TypeA_Scheme_A\n",
      "Failed example:\n",
      "    ic(nodeToList(addTwoNumbers_TypeA_Scheme_A(l1=inputNode(nums=[9, 9, 9, 9, 9, 9, 9]), l2=inputNode(nums=[9, 9, 9, 9]))))\n",
      "Exception raised:\n",
      "    Traceback (most recent call last):\n",
      "      File \"C:\\Users\\tangke\\AppData\\Local\\Programs\\Python\\Python39\\lib\\doctest.py\", line 1336, in __run\n",
      "        exec(compile(example.source, filename, \"single\",\n",
      "      File \"<doctest __main__.addTwoNumbers_TypeA_Scheme_A[2]>\", line 1, in <module>\n",
      "        ic(nodeToList(addTwoNumbers_TypeA_Scheme_A(l1=inputNode(nums=[9, 9, 9, 9, 9, 9, 9]), l2=inputNode(nums=[9, 9, 9, 9]))))\n",
      "    TypeError: addTwoNumbers_TypeA_Scheme_A() missing 1 required positional argument: 'self'\n",
      "**********************************************************************\n",
      "File \"__main__\", line 10, in __main__.addTwoNumbers_TypeA_Scheme_B\n",
      "Failed example:\n",
      "    ic(nodeToList(addTwoNumbers_TypeA_Scheme_B(l1=inputNode(nums=[2, 4, 3]), l2=inputNode(nums=[5, 6, 4]))))\n",
      "Exception raised:\n",
      "    Traceback (most recent call last):\n",
      "      File \"C:\\Users\\tangke\\AppData\\Local\\Programs\\Python\\Python39\\lib\\doctest.py\", line 1336, in __run\n",
      "        exec(compile(example.source, filename, \"single\",\n",
      "      File \"<doctest __main__.addTwoNumbers_TypeA_Scheme_B[0]>\", line 1, in <module>\n",
      "        ic(nodeToList(addTwoNumbers_TypeA_Scheme_B(l1=inputNode(nums=[2, 4, 3]), l2=inputNode(nums=[5, 6, 4]))))\n",
      "      File \"C:\\Users\\tangke\\AppData\\Local\\Temp/ipykernel_30704/2788590202.py\", line 23, in nodeToList\n",
      "        while cursor.next != None:\n",
      "    AttributeError: 'NoneType' object has no attribute 'next'\n",
      "**********************************************************************\n",
      "File \"__main__\", line 12, in __main__.addTwoNumbers_TypeA_Scheme_B\n",
      "Failed example:\n",
      "    ic(nodeToList(addTwoNumbers_TypeA_Scheme_B(l1=inputNode(nums=[0]), l2=inputNode(nums=[0]))))\n",
      "Exception raised:\n",
      "    Traceback (most recent call last):\n",
      "      File \"C:\\Users\\tangke\\AppData\\Local\\Programs\\Python\\Python39\\lib\\doctest.py\", line 1336, in __run\n",
      "        exec(compile(example.source, filename, \"single\",\n",
      "      File \"<doctest __main__.addTwoNumbers_TypeA_Scheme_B[1]>\", line 1, in <module>\n",
      "        ic(nodeToList(addTwoNumbers_TypeA_Scheme_B(l1=inputNode(nums=[0]), l2=inputNode(nums=[0]))))\n",
      "      File \"C:\\Users\\tangke\\AppData\\Local\\Temp/ipykernel_30704/2788590202.py\", line 23, in nodeToList\n",
      "        while cursor.next != None:\n",
      "    AttributeError: 'NoneType' object has no attribute 'next'\n",
      "**********************************************************************\n",
      "File \"__main__\", line 14, in __main__.addTwoNumbers_TypeA_Scheme_B\n",
      "Failed example:\n",
      "    ic(nodeToList(addTwoNumbers_TypeA_Scheme_B(l1=inputNode(nums=[9, 9, 9, 9, 9, 9, 9]), l2=inputNode(nums=[9, 9, 9, 9]))))\n",
      "Exception raised:\n",
      "    Traceback (most recent call last):\n",
      "      File \"C:\\Users\\tangke\\AppData\\Local\\Programs\\Python\\Python39\\lib\\doctest.py\", line 1336, in __run\n",
      "        exec(compile(example.source, filename, \"single\",\n",
      "      File \"<doctest __main__.addTwoNumbers_TypeA_Scheme_B[2]>\", line 1, in <module>\n",
      "        ic(nodeToList(addTwoNumbers_TypeA_Scheme_B(l1=inputNode(nums=[9, 9, 9, 9, 9, 9, 9]), l2=inputNode(nums=[9, 9, 9, 9]))))\n",
      "      File \"C:\\Users\\tangke\\AppData\\Local\\Temp/ipykernel_30704/2788590202.py\", line 23, in nodeToList\n",
      "        while cursor.next != None:\n",
      "    AttributeError: 'NoneType' object has no attribute 'next'\n",
      "**********************************************************************\n",
      "File \"__main__\", line 10, in __main__.addTwoNumbers_TypeB_Scheme_A\n",
      "Failed example:\n",
      "    ic(nodeToList(addTwoNumbers_TypeB_Scheme_A(l1=inputNode(nums=[2, 4, 3]), l2=inputNode(nums=[5, 6, 4]))))\n",
      "Exception raised:\n",
      "    Traceback (most recent call last):\n",
      "      File \"C:\\Users\\tangke\\AppData\\Local\\Programs\\Python\\Python39\\lib\\doctest.py\", line 1336, in __run\n",
      "        exec(compile(example.source, filename, \"single\",\n",
      "      File \"<doctest __main__.addTwoNumbers_TypeB_Scheme_A[0]>\", line 1, in <module>\n",
      "        ic(nodeToList(addTwoNumbers_TypeB_Scheme_A(l1=inputNode(nums=[2, 4, 3]), l2=inputNode(nums=[5, 6, 4]))))\n",
      "      File \"C:\\Users\\tangke\\AppData\\Local\\Temp/ipykernel_30704/2788590202.py\", line 23, in nodeToList\n",
      "        while cursor.next != None:\n",
      "    AttributeError: 'NoneType' object has no attribute 'next'\n",
      "**********************************************************************\n",
      "File \"__main__\", line 12, in __main__.addTwoNumbers_TypeB_Scheme_A\n",
      "Failed example:\n",
      "    ic(nodeToList(addTwoNumbers_TypeB_Scheme_A(l1=inputNode(nums=[0]), l2=inputNode(nums=[0]))))\n",
      "Exception raised:\n",
      "    Traceback (most recent call last):\n",
      "      File \"C:\\Users\\tangke\\AppData\\Local\\Programs\\Python\\Python39\\lib\\doctest.py\", line 1336, in __run\n",
      "        exec(compile(example.source, filename, \"single\",\n",
      "      File \"<doctest __main__.addTwoNumbers_TypeB_Scheme_A[1]>\", line 1, in <module>\n",
      "        ic(nodeToList(addTwoNumbers_TypeB_Scheme_A(l1=inputNode(nums=[0]), l2=inputNode(nums=[0]))))\n",
      "      File \"C:\\Users\\tangke\\AppData\\Local\\Temp/ipykernel_30704/2788590202.py\", line 23, in nodeToList\n",
      "        while cursor.next != None:\n",
      "    AttributeError: 'NoneType' object has no attribute 'next'\n",
      "**********************************************************************\n",
      "File \"__main__\", line 14, in __main__.addTwoNumbers_TypeB_Scheme_A\n",
      "Failed example:\n",
      "    ic(nodeToList(addTwoNumbers_TypeB_Scheme_A(l1=inputNode(nums=[9, 9, 9, 9, 9, 9, 9]), l2=inputNode(nums=[9, 9, 9, 9]))))\n",
      "Exception raised:\n",
      "    Traceback (most recent call last):\n",
      "      File \"C:\\Users\\tangke\\AppData\\Local\\Programs\\Python\\Python39\\lib\\doctest.py\", line 1336, in __run\n",
      "        exec(compile(example.source, filename, \"single\",\n",
      "      File \"<doctest __main__.addTwoNumbers_TypeB_Scheme_A[2]>\", line 1, in <module>\n",
      "        ic(nodeToList(addTwoNumbers_TypeB_Scheme_A(l1=inputNode(nums=[9, 9, 9, 9, 9, 9, 9]), l2=inputNode(nums=[9, 9, 9, 9]))))\n",
      "      File \"C:\\Users\\tangke\\AppData\\Local\\Temp/ipykernel_30704/2788590202.py\", line 23, in nodeToList\n",
      "        while cursor.next != None:\n",
      "    AttributeError: 'NoneType' object has no attribute 'next'\n",
      "**********************************************************************\n",
      "3 items had failures:\n",
      "   3 of   3 in __main__.addTwoNumbers_TypeA_Scheme_A\n",
      "   3 of   3 in __main__.addTwoNumbers_TypeA_Scheme_B\n",
      "   3 of   3 in __main__.addTwoNumbers_TypeB_Scheme_A\n",
      "***Test Failed*** 9 failures.\n"
     ]
    },
    {
     "name": "stderr",
     "output_type": "stream",
     "text": [
      "ic| doctest.testmod(): TestResults(failed=9, attempted=9)\n"
     ]
    },
    {
     "data": {
      "text/plain": "TestResults(failed=9, attempted=9)"
     },
     "execution_count": 4,
     "metadata": {},
     "output_type": "execute_result"
    }
   ],
   "source": [
    "import doctest\n",
    "from icecream import ic\n",
    "\n",
    "ic(doctest.testmod())"
   ]
  }
 ],
 "metadata": {
  "kernelspec": {
   "display_name": "Python 3 (ipykernel)",
   "language": "python",
   "name": "python3"
  },
  "language_info": {
   "codemirror_mode": {
    "name": "ipython",
    "version": 3
   },
   "file_extension": ".py",
   "mimetype": "text/x-python",
   "name": "python",
   "nbconvert_exporter": "python",
   "pygments_lexer": "ipython3",
   "version": "3.9.6"
  }
 },
 "nbformat": 4,
 "nbformat_minor": 1
}