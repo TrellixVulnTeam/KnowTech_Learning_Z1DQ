{
 "cells": [
  {
   "cell_type": "markdown",
   "metadata": {},
   "source": [
    "# LeetCode Algorithm Test Case 07\n",
    "\n",
    "## (整数反转)[https://leetcode-cn.com/problems/reverse-integer/]\n",
    "\n",
    "[TOC]\n",
    "\n",
    "给你一个 32 位的有符号整数 x ，返回将 x 中的数字部分反转后的结果。\n",
    "\n",
    "如果反转后整数超过 32 位的有符号整数的范围[−2^31, 2^31 − 1] ，就返回 0。\n",
    "\n",
    "假设环境不允许存储 64 位整数（有符号或无符号）。\n",
    "\n",
    "> 示例 1：\n",
    "> 输入: x = 123\n",
    "> 输出: 321\n",
    "\n",
    "> 示例 2：\n",
    "> 输入: x = -123\n",
    "> 输出: -321\n",
    "\n",
    "> 示例 3：\n",
    "> 输入: x = 120\n",
    "> 输出: 21\n",
    "\n",
    "> 示例 4：\n",
    "> 输入: x = 0\n",
    "> 输出: 0"
   ]
  },
  {
   "cell_type": "markdown",
   "metadata": {},
   "source": [
    "### Type A: Violent Enumeration Solution - Scheme I\n",
    "> 2021/08/19 Kevin Tang"
   ]
  },
  {
   "cell_type": "code",
   "execution_count": 21,
   "outputs": [],
   "source": [
    "from typing import List\n",
    "\n",
    "\n",
    "def reverse_TypeA_Scheme_A(x: int) -> int:\n",
    "    \"\"\"\n",
    "    :param x:\n",
    "    :return:\n",
    "\n",
    "    >>> ic(reverse_TypeA_Scheme_A(x=123))\n",
    "    321\n",
    "    >>> ic(reverse_TypeA_Scheme_A(x=-123))\n",
    "    -321\n",
    "    >>> ic(reverse_TypeA_Scheme_A(x=120))\n",
    "    21\n",
    "    >>> ic(reverse_TypeA_Scheme_A(x=0))\n",
    "    0\n",
    "    \"\"\"\n",
    "    pass"
   ],
   "metadata": {
    "collapsed": false,
    "pycharm": {
     "name": "#%%\n"
    }
   }
  },
  {
   "cell_type": "markdown",
   "source": [
    "### Type A: Violent Enumeration Solution - Scheme II\n",
    "> 2021/08/19 Kevin Tang"
   ],
   "metadata": {
    "collapsed": false
   }
  },
  {
   "cell_type": "code",
   "execution_count": 22,
   "outputs": [],
   "source": [
    "from typing import List\n",
    "\n",
    "\n",
    "def reverse_TypeA_Scheme_B(x: int) -> int:\n",
    "    \"\"\"\n",
    "    :param x:\n",
    "    :return:\n",
    "\n",
    "    >>> ic(reverse_TypeA_Scheme_A(x=123))\n",
    "    321\n",
    "    >>> ic(reverse_TypeA_Scheme_A(x=-123))\n",
    "    -321\n",
    "    >>> ic(reverse_TypeA_Scheme_A(x=120))\n",
    "    21\n",
    "    >>> ic(reverse_TypeA_Scheme_A(x=0))\n",
    "    0\n",
    "    \"\"\"\n",
    "    pass"
   ],
   "metadata": {
    "collapsed": false,
    "pycharm": {
     "name": "#%%\n"
    }
   }
  },
  {
   "cell_type": "markdown",
   "source": [
    "### Type B: Built in Function Solution - Scheme I\n",
    "> 2021/08/19 Kevin Tang"
   ],
   "metadata": {
    "collapsed": false
   }
  },
  {
   "cell_type": "code",
   "execution_count": 23,
   "metadata": {
    "pycharm": {
     "name": "#%%\n"
    }
   },
   "outputs": [],
   "source": [
    "from typing import List\n",
    "\n",
    "\n",
    "def reverse_TypeB_Scheme_A(x: int) -> int:\n",
    "    \"\"\"\n",
    "    :param x:\n",
    "    :return:\n",
    "\n",
    "    >>> ic(reverse_TypeA_Scheme_A(x=123))\n",
    "    321\n",
    "    >>> ic(reverse_TypeA_Scheme_A(x=-123))\n",
    "    -321\n",
    "    >>> ic(reverse_TypeA_Scheme_A(x=120))\n",
    "    21\n",
    "    >>> ic(reverse_TypeA_Scheme_A(x=0))\n",
    "    0\n",
    "    \"\"\"\n",
    "    pass"
   ]
  },
  {
   "cell_type": "markdown",
   "source": [
    "### Test Script"
   ],
   "metadata": {
    "collapsed": false
   }
  },
  {
   "cell_type": "code",
   "execution_count": 24,
   "metadata": {
    "pycharm": {
     "name": "#%%\n"
    }
   },
   "outputs": [
    {
     "name": "stderr",
     "output_type": "stream",
     "text": [
      "ic| checkRecord_TypeA_Scheme_A(s=\"PPALLP\"): True\n",
      "ic| checkRecord_TypeA_Scheme_A(s=\"PPALLL\"): False\n",
      "ic| checkRecord_TypeA_Scheme_A(s=\"AA\"): False\n",
      "ic| checkRecord_TypeA_Scheme_B(s=\"PPALLP\"): True\n",
      "ic| checkRecord_TypeA_Scheme_B(s=\"PPALLL\"): False\n",
      "ic| checkRecord_TypeA_Scheme_B(s=\"AA\"): False\n",
      "ic| checkRecord_TypeB_Scheme_A(s=\"PPALLP\"): True\n",
      "ic| checkRecord_TypeB_Scheme_A(s=\"PPALLL\"): False\n",
      "ic| checkRecord_TypeB_Scheme_A(s=\"AA\"): False\n",
      "ic| checkRecord_TypeB_Scheme_A(s=\"LPLPLPLPLPL\"): True\n",
      "ic| doctest.testmod(): TestResults(failed=0, attempted=10)\n"
     ]
    },
    {
     "data": {
      "text/plain": "TestResults(failed=0, attempted=10)"
     },
     "execution_count": 24,
     "metadata": {},
     "output_type": "execute_result"
    }
   ],
   "source": [
    "import doctest\n",
    "from icecream import ic\n",
    "\n",
    "ic(doctest.testmod())"
   ]
  }
 ],
 "metadata": {
  "kernelspec": {
   "display_name": "Python 3 (ipykernel)",
   "language": "python",
   "name": "python3"
  },
  "language_info": {
   "codemirror_mode": {
    "name": "ipython",
    "version": 3
   },
   "file_extension": ".py",
   "mimetype": "text/x-python",
   "name": "python",
   "nbconvert_exporter": "python",
   "pygments_lexer": "ipython3",
   "version": "3.9.6"
  }
 },
 "nbformat": 4,
 "nbformat_minor": 1
}