{
 "cells": [
  {
   "cell_type": "markdown",
   "metadata": {},
   "source": [
    "# LeetCode Algorithm Test Case 01\n",
    "\n",
    "## (两数之和)[https://leetcode-cn.com/problems/two-sum/]\n",
    "\n",
    "[TOC]\n",
    "\n",
    "给定一个整数数组 nums和一个整数目标值 target，请你在该数组中找出 和为目标值 target 的那两个整数，并返回它们的数组下标。\n",
    "你可以假设每种输入只会对应一个答案。但是，数组中同一个元素在答案里不能重复出现。\n",
    "你可以按任意顺序返回答案。\n",
    "> 示例 1：\n",
    "> 输入：nums = [2,7,11,15], target = 9\n",
    "> 输出：[0,1]\n",
    "> 解释：因为 nums[0] + nums[1] == 9 ，返回 [0, 1] 。\n"
   ]
  },
  {
   "cell_type": "markdown",
   "metadata": {},
   "source": [
    "### Type A: Violent Solution - Scheme I\n",
    "> 2021/08/07 Kevin Tang"
   ]
  },
  {
   "cell_type": "code",
   "execution_count": 1,
   "metadata": {
    "pycharm": {
     "name": "#%%\n"
    }
   },
   "outputs": [],
   "source": [
    "from typing import List\n",
    "\n",
    "\n",
    "def twoSum_TypeA_Scheme_A(nums: List[int], target: int) -> List[int]:\n",
    "    \"\"\"\n",
    "    :param nums:\n",
    "    :param target:\n",
    "    :return:\n",
    "\n",
    "    >>> twoSum_TypeA_Scheme_A(nums=[2, 7, 11, 15], target=9)\n",
    "    [0, 1]\n",
    "    >>> twoSum_TypeA_Scheme_A(nums=[3, 2, 4], target=6)\n",
    "    [1, 2]\n",
    "    >>> twoSum_TypeA_Scheme_A(nums=[5, 7, 6 ,0 ,9], target=11)\n",
    "    [0, 2]\n",
    "    \"\"\"\n",
    "    # logger.debug(\"Nums: \" + str(nums) + \", Targer: \" + str(target))\n",
    "\n",
    "    backList: List[int] = []\n",
    "    itemCountA: int = 0\n",
    "    itemCountB: int = 0\n",
    "    runCount: int = 0\n",
    "\n",
    "    for itemLayerA in nums:\n",
    "        itemCountB = itemCountA + 1\n",
    "        exitFlag: bool = False\n",
    "        splitList: list = nums[itemCountB:len(nums)]\n",
    "        # logger.warning(str(splitList))\n",
    "        for itemLayerB in splitList:\n",
    "            runCount += 1\n",
    "            # logger.debug(runCount)\n",
    "            # logger.info(\"Item Layer A: \" + str(itemLayerA) + \", Item Layer B: \" + str(itemLayerB))\n",
    "            # logger.info(\"Item Layer A: \" + str(itemCountA) + \", Item Layer B: \" + str(itemCountB))\n",
    "            if (itemLayerA + itemLayerB) == target:\n",
    "                backList.append(itemCountA)\n",
    "                backList.append(itemCountB)\n",
    "                # logger.warning(str(True))\n",
    "                exitFlag = True\n",
    "                break\n",
    "            itemCountB += 1\n",
    "        if exitFlag:\n",
    "            break\n",
    "        itemCountA += 1\n",
    "    # logger.info(\"Back List: \" + str(backList))\n",
    "    return backList"
   ]
  },
  {
   "cell_type": "markdown",
   "metadata": {
    "pycharm": {
     "name": "#%%\n"
    }
   },
   "source": [
    "### Type A: Violent Solution - Scheme II\n",
    "> 2021/08/07 Kevin Tang"
   ]
  },
  {
   "cell_type": "code",
   "execution_count": 2,
   "metadata": {},
   "outputs": [],
   "source": [
    "from typing import List\n",
    "\n",
    "\n",
    "def twoSum_TypeA_Scheme_B(nums: List[int], target: int) -> List[int]:\n",
    "    \"\"\"\n",
    "    :param nums:\n",
    "    :param target:\n",
    "    :return:\n",
    "\n",
    "    >>> twoSum_TypeA_Scheme_B(nums=[2, 7, 11, 15], target=9)\n",
    "    [0, 1]\n",
    "    >>> twoSum_TypeA_Scheme_B(nums=[3, 2, 4], target=6)\n",
    "    [1, 2]\n",
    "    >>> twoSum_TypeA_Scheme_B(nums=[5, 7, 6 ,0 ,9], target=11)\n",
    "    [0, 2]\n",
    "    \"\"\"\n",
    "    # logger.debug(\"Nums: \" + str(nums) + \", Targer: \" + str(target))\n",
    "\n",
    "    backList: List[int] = []\n",
    "    itemCountA: int = 0\n",
    "    itemCountB: int = 0\n",
    "    runCount: int = 0\n",
    "\n",
    "    for itemLayerA in nums:\n",
    "        itemCountB = itemCountA + 1\n",
    "        exitFlag: bool = False\n",
    "        splitList: list = nums[itemCountB:len(nums)]\n",
    "        # logger.warning(str(splitList))\n",
    "        for itemLayerB in splitList:\n",
    "            runCount += 1\n",
    "            # logger.debug(runCount)\n",
    "            # logger.info(\"Item Layer A: \" + str(itemLayerA) + \", Item Layer B: \" + str(itemLayerB))\n",
    "            # logger.info(\"Item Layer A: \" + str(itemCountA) + \", Item Layer B: \" + str(itemCountB))\n",
    "            if (itemLayerA + itemLayerB) == target:\n",
    "                backList.append(itemCountA)\n",
    "                backList.append(itemCountB)\n",
    "                # logger.warning(str(True))\n",
    "                exitFlag = True\n",
    "                break\n",
    "            itemCountB += 1\n",
    "        if exitFlag:\n",
    "            break\n",
    "        itemCountA += 1\n",
    "    # logger.info(\"Back List: \" + str(backList))\n",
    "    return backList"
   ]
  },
  {
   "cell_type": "code",
   "execution_count": 3,
   "metadata": {
    "pycharm": {
     "name": "#%%\n"
    }
   },
   "outputs": [
    {
     "name": "stderr",
     "output_type": "stream",
     "text": [
      "ic| doctest.testmod(): TestResults(failed=0, attempted=6)\n"
     ]
    },
    {
     "data": {
      "text/plain": [
       "TestResults(failed=0, attempted=6)"
      ]
     },
     "execution_count": 3,
     "metadata": {},
     "output_type": "execute_result"
    }
   ],
   "source": [
    "import doctest\n",
    "from icecream import ic\n",
    "\n",
    "ic(doctest.testmod())"
   ]
  },
  {
   "cell_type": "code",
   "execution_count": null,
   "metadata": {},
   "outputs": [],
   "source": []
  }
 ],
 "metadata": {
  "kernelspec": {
   "display_name": "Python 3 (ipykernel)",
   "language": "python",
   "name": "python3"
  },
  "language_info": {
   "codemirror_mode": {
    "name": "ipython",
    "version": 3
   },
   "file_extension": ".py",
   "mimetype": "text/x-python",
   "name": "python",
   "nbconvert_exporter": "python",
   "pygments_lexer": "ipython3",
   "version": "3.9.6"
  }
 },
 "nbformat": 4,
 "nbformat_minor": 1
}
